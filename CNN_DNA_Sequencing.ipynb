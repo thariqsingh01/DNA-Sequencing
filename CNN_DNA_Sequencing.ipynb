{
  "nbformat": 4,
  "nbformat_minor": 0,
  "metadata": {
    "colab": {
      "provenance": []
    },
    "kernelspec": {
      "name": "python3",
      "display_name": "Python 3"
    },
    "language_info": {
      "name": "python"
    }
  },
  "cells": [
    {
      "cell_type": "code",
      "source": [
        "!pip install scikeras"
      ],
      "metadata": {
        "colab": {
          "base_uri": "https://localhost:8080/"
        },
        "id": "pj7XSI0yNzCy",
        "outputId": "6ab1ff52-13c9-46ee-b917-e521d8215468"
      },
      "execution_count": 16,
      "outputs": [
        {
          "output_type": "stream",
          "name": "stdout",
          "text": [
            "Requirement already satisfied: scikeras in /usr/local/lib/python3.10/dist-packages (0.13.0)\n",
            "Requirement already satisfied: keras>=3.2.0 in /usr/local/lib/python3.10/dist-packages (from scikeras) (3.3.3)\n",
            "Collecting scikit-learn>=1.4.2 (from scikeras)\n",
            "  Using cached scikit_learn-1.5.0-cp310-cp310-manylinux_2_17_x86_64.manylinux2014_x86_64.whl (13.3 MB)\n",
            "Requirement already satisfied: absl-py in /usr/local/lib/python3.10/dist-packages (from keras>=3.2.0->scikeras) (1.4.0)\n",
            "Requirement already satisfied: numpy in /usr/local/lib/python3.10/dist-packages (from keras>=3.2.0->scikeras) (1.25.2)\n",
            "Requirement already satisfied: rich in /usr/local/lib/python3.10/dist-packages (from keras>=3.2.0->scikeras) (13.7.1)\n",
            "Requirement already satisfied: namex in /usr/local/lib/python3.10/dist-packages (from keras>=3.2.0->scikeras) (0.0.8)\n",
            "Requirement already satisfied: h5py in /usr/local/lib/python3.10/dist-packages (from keras>=3.2.0->scikeras) (3.9.0)\n",
            "Requirement already satisfied: optree in /usr/local/lib/python3.10/dist-packages (from keras>=3.2.0->scikeras) (0.11.0)\n",
            "Requirement already satisfied: ml-dtypes in /usr/local/lib/python3.10/dist-packages (from keras>=3.2.0->scikeras) (0.2.0)\n",
            "Requirement already satisfied: scipy>=1.6.0 in /usr/local/lib/python3.10/dist-packages (from scikit-learn>=1.4.2->scikeras) (1.11.4)\n",
            "Requirement already satisfied: joblib>=1.2.0 in /usr/local/lib/python3.10/dist-packages (from scikit-learn>=1.4.2->scikeras) (1.4.2)\n",
            "Requirement already satisfied: threadpoolctl>=3.1.0 in /usr/local/lib/python3.10/dist-packages (from scikit-learn>=1.4.2->scikeras) (3.5.0)\n",
            "Requirement already satisfied: typing-extensions>=4.0.0 in /usr/local/lib/python3.10/dist-packages (from optree->keras>=3.2.0->scikeras) (4.12.0)\n",
            "Requirement already satisfied: markdown-it-py>=2.2.0 in /usr/local/lib/python3.10/dist-packages (from rich->keras>=3.2.0->scikeras) (3.0.0)\n",
            "Requirement already satisfied: pygments<3.0.0,>=2.13.0 in /usr/local/lib/python3.10/dist-packages (from rich->keras>=3.2.0->scikeras) (2.16.1)\n",
            "Requirement already satisfied: mdurl~=0.1 in /usr/local/lib/python3.10/dist-packages (from markdown-it-py>=2.2.0->rich->keras>=3.2.0->scikeras) (0.1.2)\n",
            "Installing collected packages: scikit-learn\n",
            "  Attempting uninstall: scikit-learn\n",
            "    Found existing installation: scikit-learn 1.2.2\n",
            "    Uninstalling scikit-learn-1.2.2:\n",
            "      Successfully uninstalled scikit-learn-1.2.2\n",
            "Successfully installed scikit-learn-1.5.0\n"
          ]
        }
      ]
    },
    {
      "cell_type": "code",
      "source": [
        "!pip install scikit-learn==1.2.2"
      ],
      "metadata": {
        "colab": {
          "base_uri": "https://localhost:8080/",
          "height": 394
        },
        "id": "7CPvVNHPOGb2",
        "outputId": "736188ca-2c7f-48c1-cc72-bec66db7dc02"
      },
      "execution_count": 2,
      "outputs": [
        {
          "output_type": "stream",
          "name": "stdout",
          "text": [
            "Collecting scikit-learn==1.2.2\n",
            "  Downloading scikit_learn-1.2.2-cp310-cp310-manylinux_2_17_x86_64.manylinux2014_x86_64.whl (9.6 MB)\n",
            "\u001b[2K     \u001b[90m━━━━━━━━━━━━━━━━━━━━━━━━━━━━━━━━━━━━━━━━\u001b[0m \u001b[32m9.6/9.6 MB\u001b[0m \u001b[31m29.7 MB/s\u001b[0m eta \u001b[36m0:00:00\u001b[0m\n",
            "\u001b[?25hRequirement already satisfied: numpy>=1.17.3 in /usr/local/lib/python3.10/dist-packages (from scikit-learn==1.2.2) (1.25.2)\n",
            "Requirement already satisfied: scipy>=1.3.2 in /usr/local/lib/python3.10/dist-packages (from scikit-learn==1.2.2) (1.11.4)\n",
            "Requirement already satisfied: joblib>=1.1.1 in /usr/local/lib/python3.10/dist-packages (from scikit-learn==1.2.2) (1.4.2)\n",
            "Requirement already satisfied: threadpoolctl>=2.0.0 in /usr/local/lib/python3.10/dist-packages (from scikit-learn==1.2.2) (3.5.0)\n",
            "Installing collected packages: scikit-learn\n",
            "  Attempting uninstall: scikit-learn\n",
            "    Found existing installation: scikit-learn 1.5.0\n",
            "    Uninstalling scikit-learn-1.5.0:\n",
            "      Successfully uninstalled scikit-learn-1.5.0\n",
            "\u001b[31mERROR: pip's dependency resolver does not currently take into account all the packages that are installed. This behaviour is the source of the following dependency conflicts.\n",
            "scikeras 0.13.0 requires scikit-learn>=1.4.2, but you have scikit-learn 1.2.2 which is incompatible.\u001b[0m\u001b[31m\n",
            "\u001b[0mSuccessfully installed scikit-learn-1.2.2\n"
          ]
        },
        {
          "output_type": "display_data",
          "data": {
            "application/vnd.colab-display-data+json": {
              "pip_warning": {
                "packages": [
                  "sklearn"
                ]
              },
              "id": "331b7ee8a8e847e6a1bd74a69adc7c3e"
            }
          },
          "metadata": {}
        }
      ]
    },
    {
      "cell_type": "code",
      "source": [
        "import pandas as pd\n",
        "import matplotlib.pyplot as plt\n",
        "from imblearn.under_sampling import RandomUnderSampler\n",
        "from sklearn.preprocessing import OneHotEncoder\n",
        "import tensorflow as tf\n",
        "from tensorflow.keras.models import Sequential\n",
        "from tensorflow.keras.layers import Conv1D, MaxPooling1D, Flatten, Dense, Dropout\n",
        "from keras.layers import Input\n",
        "import numpy as np\n",
        "from sklearn.model_selection import train_test_split\n",
        "from sklearn.model_selection import RandomizedSearchCV\n",
        "from scikeras.wrappers import KerasClassifier\n",
        "import seaborn as sns\n",
        "from sklearn.metrics import confusion_matrix"
      ],
      "metadata": {
        "id": "8CpGYzBzZx3X"
      },
      "execution_count": 1,
      "outputs": []
    },
    {
      "cell_type": "markdown",
      "source": [
        "Reading in Dataset"
      ],
      "metadata": {
        "id": "bLQc_UoJXTD4"
      }
    },
    {
      "cell_type": "code",
      "source": [
        "# Read the CSV file into a DataFrame\n",
        "df = pd.read_csv('/content/drive/MyDrive/splice.data', names = [\"class\", \"donor\", \"DNA sequence\"])\n",
        "df = df.drop(['donor'], axis = 1)\n",
        "\n",
        "# Display the first few rows of the DataFrame\n",
        "df.head(5)"
      ],
      "metadata": {
        "colab": {
          "base_uri": "https://localhost:8080/",
          "height": 206
        },
        "id": "JSbf--UxFan8",
        "outputId": "f2cbea2b-b973-464e-cced-0decc44971f3"
      },
      "execution_count": 2,
      "outputs": [
        {
          "output_type": "execute_result",
          "data": {
            "text/plain": [
              "  class                                       DNA sequence\n",
              "0    EI                 CCAGCTGCATCACAGGAGGCCAGCGAGCAGG...\n",
              "1    EI                 AGACCCGCCGGGAGGCGGAGGACCTGCAGGG...\n",
              "2    EI                 GAGGTGAAGGACGTCCTTCCCCAGGAGCCGG...\n",
              "3    EI                GGGCTGCGTTGCTGGTCACATTCCTGGCAGGT...\n",
              "4    EI               GCTCAGCCCCCAGGTCACCCAGGAACTGACGTG..."
            ],
            "text/html": [
              "\n",
              "  <div id=\"df-d8f0f3db-0fe2-4738-ac5d-ceddc2a4015d\" class=\"colab-df-container\">\n",
              "    <div>\n",
              "<style scoped>\n",
              "    .dataframe tbody tr th:only-of-type {\n",
              "        vertical-align: middle;\n",
              "    }\n",
              "\n",
              "    .dataframe tbody tr th {\n",
              "        vertical-align: top;\n",
              "    }\n",
              "\n",
              "    .dataframe thead th {\n",
              "        text-align: right;\n",
              "    }\n",
              "</style>\n",
              "<table border=\"1\" class=\"dataframe\">\n",
              "  <thead>\n",
              "    <tr style=\"text-align: right;\">\n",
              "      <th></th>\n",
              "      <th>class</th>\n",
              "      <th>DNA sequence</th>\n",
              "    </tr>\n",
              "  </thead>\n",
              "  <tbody>\n",
              "    <tr>\n",
              "      <th>0</th>\n",
              "      <td>EI</td>\n",
              "      <td>CCAGCTGCATCACAGGAGGCCAGCGAGCAGG...</td>\n",
              "    </tr>\n",
              "    <tr>\n",
              "      <th>1</th>\n",
              "      <td>EI</td>\n",
              "      <td>AGACCCGCCGGGAGGCGGAGGACCTGCAGGG...</td>\n",
              "    </tr>\n",
              "    <tr>\n",
              "      <th>2</th>\n",
              "      <td>EI</td>\n",
              "      <td>GAGGTGAAGGACGTCCTTCCCCAGGAGCCGG...</td>\n",
              "    </tr>\n",
              "    <tr>\n",
              "      <th>3</th>\n",
              "      <td>EI</td>\n",
              "      <td>GGGCTGCGTTGCTGGTCACATTCCTGGCAGGT...</td>\n",
              "    </tr>\n",
              "    <tr>\n",
              "      <th>4</th>\n",
              "      <td>EI</td>\n",
              "      <td>GCTCAGCCCCCAGGTCACCCAGGAACTGACGTG...</td>\n",
              "    </tr>\n",
              "  </tbody>\n",
              "</table>\n",
              "</div>\n",
              "    <div class=\"colab-df-buttons\">\n",
              "\n",
              "  <div class=\"colab-df-container\">\n",
              "    <button class=\"colab-df-convert\" onclick=\"convertToInteractive('df-d8f0f3db-0fe2-4738-ac5d-ceddc2a4015d')\"\n",
              "            title=\"Convert this dataframe to an interactive table.\"\n",
              "            style=\"display:none;\">\n",
              "\n",
              "  <svg xmlns=\"http://www.w3.org/2000/svg\" height=\"24px\" viewBox=\"0 -960 960 960\">\n",
              "    <path d=\"M120-120v-720h720v720H120Zm60-500h600v-160H180v160Zm220 220h160v-160H400v160Zm0 220h160v-160H400v160ZM180-400h160v-160H180v160Zm440 0h160v-160H620v160ZM180-180h160v-160H180v160Zm440 0h160v-160H620v160Z\"/>\n",
              "  </svg>\n",
              "    </button>\n",
              "\n",
              "  <style>\n",
              "    .colab-df-container {\n",
              "      display:flex;\n",
              "      gap: 12px;\n",
              "    }\n",
              "\n",
              "    .colab-df-convert {\n",
              "      background-color: #E8F0FE;\n",
              "      border: none;\n",
              "      border-radius: 50%;\n",
              "      cursor: pointer;\n",
              "      display: none;\n",
              "      fill: #1967D2;\n",
              "      height: 32px;\n",
              "      padding: 0 0 0 0;\n",
              "      width: 32px;\n",
              "    }\n",
              "\n",
              "    .colab-df-convert:hover {\n",
              "      background-color: #E2EBFA;\n",
              "      box-shadow: 0px 1px 2px rgba(60, 64, 67, 0.3), 0px 1px 3px 1px rgba(60, 64, 67, 0.15);\n",
              "      fill: #174EA6;\n",
              "    }\n",
              "\n",
              "    .colab-df-buttons div {\n",
              "      margin-bottom: 4px;\n",
              "    }\n",
              "\n",
              "    [theme=dark] .colab-df-convert {\n",
              "      background-color: #3B4455;\n",
              "      fill: #D2E3FC;\n",
              "    }\n",
              "\n",
              "    [theme=dark] .colab-df-convert:hover {\n",
              "      background-color: #434B5C;\n",
              "      box-shadow: 0px 1px 3px 1px rgba(0, 0, 0, 0.15);\n",
              "      filter: drop-shadow(0px 1px 2px rgba(0, 0, 0, 0.3));\n",
              "      fill: #FFFFFF;\n",
              "    }\n",
              "  </style>\n",
              "\n",
              "    <script>\n",
              "      const buttonEl =\n",
              "        document.querySelector('#df-d8f0f3db-0fe2-4738-ac5d-ceddc2a4015d button.colab-df-convert');\n",
              "      buttonEl.style.display =\n",
              "        google.colab.kernel.accessAllowed ? 'block' : 'none';\n",
              "\n",
              "      async function convertToInteractive(key) {\n",
              "        const element = document.querySelector('#df-d8f0f3db-0fe2-4738-ac5d-ceddc2a4015d');\n",
              "        const dataTable =\n",
              "          await google.colab.kernel.invokeFunction('convertToInteractive',\n",
              "                                                    [key], {});\n",
              "        if (!dataTable) return;\n",
              "\n",
              "        const docLinkHtml = 'Like what you see? Visit the ' +\n",
              "          '<a target=\"_blank\" href=https://colab.research.google.com/notebooks/data_table.ipynb>data table notebook</a>'\n",
              "          + ' to learn more about interactive tables.';\n",
              "        element.innerHTML = '';\n",
              "        dataTable['output_type'] = 'display_data';\n",
              "        await google.colab.output.renderOutput(dataTable, element);\n",
              "        const docLink = document.createElement('div');\n",
              "        docLink.innerHTML = docLinkHtml;\n",
              "        element.appendChild(docLink);\n",
              "      }\n",
              "    </script>\n",
              "  </div>\n",
              "\n",
              "\n",
              "<div id=\"df-124deb44-bf68-4f51-941e-a6b9533600fd\">\n",
              "  <button class=\"colab-df-quickchart\" onclick=\"quickchart('df-124deb44-bf68-4f51-941e-a6b9533600fd')\"\n",
              "            title=\"Suggest charts\"\n",
              "            style=\"display:none;\">\n",
              "\n",
              "<svg xmlns=\"http://www.w3.org/2000/svg\" height=\"24px\"viewBox=\"0 0 24 24\"\n",
              "     width=\"24px\">\n",
              "    <g>\n",
              "        <path d=\"M19 3H5c-1.1 0-2 .9-2 2v14c0 1.1.9 2 2 2h14c1.1 0 2-.9 2-2V5c0-1.1-.9-2-2-2zM9 17H7v-7h2v7zm4 0h-2V7h2v10zm4 0h-2v-4h2v4z\"/>\n",
              "    </g>\n",
              "</svg>\n",
              "  </button>\n",
              "\n",
              "<style>\n",
              "  .colab-df-quickchart {\n",
              "      --bg-color: #E8F0FE;\n",
              "      --fill-color: #1967D2;\n",
              "      --hover-bg-color: #E2EBFA;\n",
              "      --hover-fill-color: #174EA6;\n",
              "      --disabled-fill-color: #AAA;\n",
              "      --disabled-bg-color: #DDD;\n",
              "  }\n",
              "\n",
              "  [theme=dark] .colab-df-quickchart {\n",
              "      --bg-color: #3B4455;\n",
              "      --fill-color: #D2E3FC;\n",
              "      --hover-bg-color: #434B5C;\n",
              "      --hover-fill-color: #FFFFFF;\n",
              "      --disabled-bg-color: #3B4455;\n",
              "      --disabled-fill-color: #666;\n",
              "  }\n",
              "\n",
              "  .colab-df-quickchart {\n",
              "    background-color: var(--bg-color);\n",
              "    border: none;\n",
              "    border-radius: 50%;\n",
              "    cursor: pointer;\n",
              "    display: none;\n",
              "    fill: var(--fill-color);\n",
              "    height: 32px;\n",
              "    padding: 0;\n",
              "    width: 32px;\n",
              "  }\n",
              "\n",
              "  .colab-df-quickchart:hover {\n",
              "    background-color: var(--hover-bg-color);\n",
              "    box-shadow: 0 1px 2px rgba(60, 64, 67, 0.3), 0 1px 3px 1px rgba(60, 64, 67, 0.15);\n",
              "    fill: var(--button-hover-fill-color);\n",
              "  }\n",
              "\n",
              "  .colab-df-quickchart-complete:disabled,\n",
              "  .colab-df-quickchart-complete:disabled:hover {\n",
              "    background-color: var(--disabled-bg-color);\n",
              "    fill: var(--disabled-fill-color);\n",
              "    box-shadow: none;\n",
              "  }\n",
              "\n",
              "  .colab-df-spinner {\n",
              "    border: 2px solid var(--fill-color);\n",
              "    border-color: transparent;\n",
              "    border-bottom-color: var(--fill-color);\n",
              "    animation:\n",
              "      spin 1s steps(1) infinite;\n",
              "  }\n",
              "\n",
              "  @keyframes spin {\n",
              "    0% {\n",
              "      border-color: transparent;\n",
              "      border-bottom-color: var(--fill-color);\n",
              "      border-left-color: var(--fill-color);\n",
              "    }\n",
              "    20% {\n",
              "      border-color: transparent;\n",
              "      border-left-color: var(--fill-color);\n",
              "      border-top-color: var(--fill-color);\n",
              "    }\n",
              "    30% {\n",
              "      border-color: transparent;\n",
              "      border-left-color: var(--fill-color);\n",
              "      border-top-color: var(--fill-color);\n",
              "      border-right-color: var(--fill-color);\n",
              "    }\n",
              "    40% {\n",
              "      border-color: transparent;\n",
              "      border-right-color: var(--fill-color);\n",
              "      border-top-color: var(--fill-color);\n",
              "    }\n",
              "    60% {\n",
              "      border-color: transparent;\n",
              "      border-right-color: var(--fill-color);\n",
              "    }\n",
              "    80% {\n",
              "      border-color: transparent;\n",
              "      border-right-color: var(--fill-color);\n",
              "      border-bottom-color: var(--fill-color);\n",
              "    }\n",
              "    90% {\n",
              "      border-color: transparent;\n",
              "      border-bottom-color: var(--fill-color);\n",
              "    }\n",
              "  }\n",
              "</style>\n",
              "\n",
              "  <script>\n",
              "    async function quickchart(key) {\n",
              "      const quickchartButtonEl =\n",
              "        document.querySelector('#' + key + ' button');\n",
              "      quickchartButtonEl.disabled = true;  // To prevent multiple clicks.\n",
              "      quickchartButtonEl.classList.add('colab-df-spinner');\n",
              "      try {\n",
              "        const charts = await google.colab.kernel.invokeFunction(\n",
              "            'suggestCharts', [key], {});\n",
              "      } catch (error) {\n",
              "        console.error('Error during call to suggestCharts:', error);\n",
              "      }\n",
              "      quickchartButtonEl.classList.remove('colab-df-spinner');\n",
              "      quickchartButtonEl.classList.add('colab-df-quickchart-complete');\n",
              "    }\n",
              "    (() => {\n",
              "      let quickchartButtonEl =\n",
              "        document.querySelector('#df-124deb44-bf68-4f51-941e-a6b9533600fd button');\n",
              "      quickchartButtonEl.style.display =\n",
              "        google.colab.kernel.accessAllowed ? 'block' : 'none';\n",
              "    })();\n",
              "  </script>\n",
              "</div>\n",
              "\n",
              "    </div>\n",
              "  </div>\n"
            ],
            "application/vnd.google.colaboratory.intrinsic+json": {
              "type": "dataframe",
              "variable_name": "df",
              "summary": "{\n  \"name\": \"df\",\n  \"rows\": 3190,\n  \"fields\": [\n    {\n      \"column\": \"class\",\n      \"properties\": {\n        \"dtype\": \"category\",\n        \"num_unique_values\": 3,\n        \"samples\": [\n          \"EI\",\n          \"IE\",\n          \"N\"\n        ],\n        \"semantic_type\": \"\",\n        \"description\": \"\"\n      }\n    },\n    {\n      \"column\": \"DNA sequence\",\n      \"properties\": {\n        \"dtype\": \"string\",\n        \"num_unique_values\": 3092,\n        \"samples\": [\n          \"              GCAATGGCATAGAAAGTGTGAACAAAGAAAATGATATTAAGGAGGGGGGCTGTAGAAGGG\",\n          \"         GTTAACCTTATTTCTTTTCCTTCCACTCAGAAATGGCACCTCGAAAGGGGAAGGAAAAGA\",\n          \"             GACCAACATATCCAGGTTTTAATGGATAAATTAGTAGAGTTGGCCCACCAATACAAGTTG\"\n        ],\n        \"semantic_type\": \"\",\n        \"description\": \"\"\n      }\n    }\n  ]\n}"
            }
          },
          "metadata": {},
          "execution_count": 2
        }
      ]
    },
    {
      "cell_type": "markdown",
      "source": [
        "Balancing Dataset"
      ],
      "metadata": {
        "id": "3M-XjwTcXV5Q"
      }
    },
    {
      "cell_type": "code",
      "source": [
        "# Count the occurrences of each genome type\n",
        "genome_counts = df['class'].value_counts()\n",
        "\n",
        "# Create a bar chart\n",
        "plt.figure(figsize=(10, 6))  # Optional: specify figure size\n",
        "plt.bar(genome_counts.index, genome_counts.values, color='skyblue')\n",
        "\n",
        "# Add labels and title\n",
        "plt.xlabel('Class')\n",
        "plt.ylabel('Count')\n",
        "# Show the plot\n",
        "plt.show()"
      ],
      "metadata": {
        "colab": {
          "base_uri": "https://localhost:8080/",
          "height": 417
        },
        "id": "OwcVL60eHyud",
        "outputId": "d4ed7ea4-0f8d-47c5-c584-fdc116c4f985"
      },
      "execution_count": 3,
      "outputs": [
        {
          "output_type": "display_data",
          "data": {
            "text/plain": [
              "<Figure size 1000x600 with 1 Axes>"
            ],
            "image/png": "[encoded data removed]"
          },
          "metadata": {}
        }
      ]
    },
    {
      "cell_type": "code",
      "source": [
        "# Separate features and target variable\n",
        "X = df.drop('class', axis=1)\n",
        "y = df['class']\n",
        "\n",
        "# Initialize RandomUnderSampler\n",
        "undersampler = RandomUnderSampler(random_state=42)\n",
        "\n",
        "# Undersample the majority class\n",
        "X_resampled, y_resampled = undersampler.fit_resample(X, y)\n",
        "y_resampled_series = pd.Series(y_resampled)\n",
        "\n",
        "# Convert the undersampled data back to a DataFrame if needed\n",
        "df = pd.DataFrame(X_resampled, columns=X.columns)\n",
        "df['class'] = y_resampled\n",
        "\n",
        "print(\"Count of each undersampled class:\")\n",
        "print(y_resampled_series.value_counts())"
      ],
      "metadata": {
        "colab": {
          "base_uri": "https://localhost:8080/"
        },
        "id": "v9EAPCD4IgJf",
        "outputId": "3073585a-3efd-4427-8afa-408a91e0a0fe"
      },
      "execution_count": 4,
      "outputs": [
        {
          "output_type": "stream",
          "name": "stdout",
          "text": [
            "Count of each undersampled class:\n",
            "class\n",
            "EI    767\n",
            "IE    767\n",
            "N     767\n",
            "Name: count, dtype: int64\n"
          ]
        }
      ]
    },
    {
      "cell_type": "markdown",
      "source": [
        "Data Preprocessing"
      ],
      "metadata": {
        "id": "f8IYogP1LkQV"
      }
    },
    {
      "cell_type": "code",
      "source": [
        "import numpy as np\n",
        "import tensorflow as tf\n",
        "from sklearn.model_selection import train_test_split\n",
        "\n",
        "def dna_to_one_hot(sequence, nucleotide_map):\n",
        "    sequence = sequence.upper()\n",
        "    valid_bases = {'A', 'T', 'C', 'G', 'D', 'N', 'R','S'}\n",
        "    sequence = ''.join([base for base in sequence if base in valid_bases])\n",
        "    sequence = sequence.replace(' ', '').replace('\\n', '').replace('\\r', '')\n",
        "    indices = [nucleotide_map[nuc] for nuc in sequence]\n",
        "    one_hot = tf.one_hot(indices, depth=len(nucleotide_map))\n",
        "    return one_hot\n",
        "\n",
        "def labels_to_one_hot(labels, label_map):\n",
        "    indices = [label_map[label] for label in labels]\n",
        "    one_hot = tf.one_hot(indices, depth=len(label_map))\n",
        "    return one_hot\n",
        "\n",
        "sequences = df['DNA sequence'].tolist()\n",
        "labels = df['class'].tolist()\n",
        "\n",
        "# Unique nucleotides and labels\n",
        "unique_nucleotides = sorted(set(''.join(sequences)))\n",
        "unique_labels = sorted(set(labels))\n",
        "\n",
        "# Mappings\n",
        "nucleotide_map = {nuc: i for i, nuc in enumerate(unique_nucleotides)}\n",
        "label_map = {label: i for i, label in enumerate(unique_labels)}\n",
        "\n",
        "# One-hot encode sequences and labels\n",
        "one_hot_sequences = [dna_to_one_hot(seq, nucleotide_map) for seq in sequences]\n",
        "one_hot_labels = labels_to_one_hot(labels, label_map)\n",
        "\n",
        "# Convert TensorFlow tensors to NumPy arrays and pad sequences to the same length\n",
        "max_length = max(len(seq) for seq in sequences)\n",
        "one_hot_sequences_padded = [tf.pad(seq, [[0, max_length - len(seq)], [0, 0]]) for seq in one_hot_sequences]\n",
        "\n",
        "one_hot_sequences_np = np.array([seq.numpy() for seq in one_hot_sequences_padded])\n",
        "one_hot_labels_np = one_hot_labels.numpy()\n",
        "\n",
        "# Train-test split\n",
        "X_train, X_test, y_train, y_test = train_test_split(one_hot_sequences_np, one_hot_labels_np, test_size=0.2, random_state=42)\n",
        "X_test, X_val, y_test, y_val = train_test_split(X_test, y_test, test_size=0.2, random_state=65)\n",
        "\n",
        "print(\"X_train shape: \", X_train.shape)\n",
        "print(\"X_test shape: \", X_test.shape)\n",
        "print(\"X_val shape: \", X_val.shape)\n",
        "print(\"y_train shape: \", y_train.shape)\n",
        "print(\"y_test shape: \", y_test.shape)\n",
        "print(\"X_val shape: \", y_val.shape)"
      ],
      "metadata": {
        "id": "_L1QFXP4Be8T",
        "colab": {
          "base_uri": "https://localhost:8080/"
        },
        "outputId": "000e7fe8-b5c2-4396-9770-2bd02139e324"
      },
      "execution_count": 6,
      "outputs": [
        {
          "output_type": "stream",
          "name": "stdout",
          "text": [
            "X_train shape:  (1840, 78, 9)\n",
            "X_test shape:  (368, 78, 9)\n",
            "X_val shape:  (93, 78, 9)\n",
            "y_train shape:  (1840, 3)\n",
            "y_test shape:  (368, 3)\n",
            "X_val shape:  (93, 3)\n"
          ]
        }
      ]
    },
    {
      "cell_type": "markdown",
      "source": [
        "Hyperparameter Tuning"
      ],
      "metadata": {
        "id": "CNCYgHjvXdFU"
      }
    },
    {
      "cell_type": "code",
      "source": [
        "# CNN model architecture\n",
        "input_shape = (max_length, len(unique_nucleotides))\n",
        "\n",
        "def create_model():\n",
        "  model = Sequential()\n",
        "  model.add(Input(shape=input_shape))\n",
        "  model.add(Conv1D(filters=32, kernel_size=3, activation='relu'))\n",
        "  model.add(Flatten())\n",
        "  model.add(Dense(128, activation='relu'))\n",
        "  model.add(Dropout(0.5))\n",
        "  model.add(Dense(len(unique_labels), activation='softmax'))\n",
        "\n",
        "  model.compile(optimizer='adam', loss='categorical_crossentropy', metrics=['accuracy'])\n",
        "  return model\n"
      ],
      "metadata": {
        "id": "34qrP3sfOjMr"
      },
      "execution_count": 10,
      "outputs": []
    },
    {
      "cell_type": "code",
      "source": [
        "# define hyperparameters to tune\n",
        "batch_size = [8, 16, 32, 64]\n",
        "epochs = [5, 10, 15, 20, 25]\n",
        "\n",
        "param_grid = dict(batch_size=batch_size, epochs=epochs)"
      ],
      "metadata": {
        "id": "yblY87NrRBDr"
      },
      "execution_count": 11,
      "outputs": []
    },
    {
      "cell_type": "code",
      "source": [
        "# Create the KerasClassifier\n",
        "random_search_model = KerasClassifier(model=create_model, verbose=0)\n",
        "\n",
        "# Use RandomizedSearchCV\n",
        "random_search = RandomizedSearchCV(estimator=random_search_model, param_distributions=param_grid, n_iter=10, verbose=2, n_jobs=1, random_state = 43)\n",
        "\n",
        "# Fit the model\n",
        "random_search_result = random_search.fit(X_val, y_val)\n",
        "\n",
        "# Print the best score and best parameters\n",
        "print(f\"Best Score: {random_search_result.best_score_}\")\n",
        "print(f\"Best Parameters: {random_search_result.best_params_}\")"
      ],
      "metadata": {
        "colab": {
          "base_uri": "https://localhost:8080/"
        },
        "id": "MlreakCYRHD-",
        "outputId": "3930bfe7-d141-4232-9e07-6820f6e17a75"
      },
      "execution_count": 12,
      "outputs": [
        {
          "output_type": "stream",
          "name": "stdout",
          "text": [
            "Fitting 5 folds for each of 10 candidates, totalling 50 fits\n",
            "[CV] END ...........................batch_size=16, epochs=25; total time=  12.7s\n",
            "[CV] END ...........................batch_size=16, epochs=25; total time=   3.4s\n"
          ]
        },
        {
          "output_type": "stream",
          "name": "stderr",
          "text": [
            "WARNING:tensorflow:5 out of the last 5 calls to <function TensorFlowTrainer.make_predict_function.<locals>.one_step_on_data_distributed at 0x7b7ae9b04280> triggered tf.function retracing. Tracing is expensive and the excessive number of tracings could be due to (1) creating @tf.function repeatedly in a loop, (2) passing tensors with different shapes, (3) passing Python objects instead of tensors. For (1), please define your @tf.function outside of the loop. For (2), @tf.function has reduce_retracing=True option that can avoid unnecessary retracing. For (3), please refer to https://www.tensorflow.org/guide/function#controlling_retracing and https://www.tensorflow.org/api_docs/python/tf/function for  more details.\n",
            "WARNING:tensorflow:6 out of the last 6 calls to <function TensorFlowTrainer.make_predict_function.<locals>.one_step_on_data_distributed at 0x7b7ae9b04280> triggered tf.function retracing. Tracing is expensive and the excessive number of tracings could be due to (1) creating @tf.function repeatedly in a loop, (2) passing tensors with different shapes, (3) passing Python objects instead of tensors. For (1), please define your @tf.function outside of the loop. For (2), @tf.function has reduce_retracing=True option that can avoid unnecessary retracing. For (3), please refer to https://www.tensorflow.org/guide/function#controlling_retracing and https://www.tensorflow.org/api_docs/python/tf/function for  more details.\n"
          ]
        },
        {
          "output_type": "stream",
          "name": "stdout",
          "text": [
            "[CV] END ...........................batch_size=16, epochs=25; total time=   5.0s\n",
            "[CV] END ...........................batch_size=16, epochs=25; total time=   3.0s\n",
            "[CV] END ...........................batch_size=16, epochs=25; total time=   3.1s\n",
            "[CV] END ...........................batch_size=16, epochs=10; total time=   2.1s\n",
            "[CV] END ...........................batch_size=16, epochs=10; total time=   3.7s\n",
            "[CV] END ...........................batch_size=16, epochs=10; total time=   2.9s\n",
            "[CV] END ...........................batch_size=16, epochs=10; total time=   2.2s\n",
            "[CV] END ...........................batch_size=16, epochs=10; total time=   2.0s\n",
            "[CV] END ...........................batch_size=64, epochs=25; total time=   2.6s\n",
            "[CV] END ...........................batch_size=64, epochs=25; total time=   2.7s\n",
            "[CV] END ...........................batch_size=64, epochs=25; total time=   4.1s\n",
            "[CV] END ...........................batch_size=64, epochs=25; total time=   2.6s\n",
            "[CV] END ...........................batch_size=64, epochs=25; total time=   3.1s\n",
            "[CV] END ...........................batch_size=32, epochs=25; total time=   2.7s\n",
            "[CV] END ...........................batch_size=32, epochs=25; total time=   3.5s\n",
            "[CV] END ...........................batch_size=32, epochs=25; total time=   3.4s\n",
            "[CV] END ...........................batch_size=32, epochs=25; total time=   2.8s\n",
            "[CV] END ...........................batch_size=32, epochs=25; total time=   2.8s\n",
            "[CV] END ............................batch_size=16, epochs=5; total time=   1.9s\n",
            "[CV] END ............................batch_size=16, epochs=5; total time=   2.5s\n",
            "[CV] END ............................batch_size=16, epochs=5; total time=   2.9s\n",
            "[CV] END ............................batch_size=16, epochs=5; total time=   1.9s\n",
            "[CV] END ............................batch_size=16, epochs=5; total time=   1.9s\n",
            "[CV] END ...........................batch_size=16, epochs=20; total time=   3.4s\n",
            "[CV] END ...........................batch_size=16, epochs=20; total time=   3.2s\n",
            "[CV] END ...........................batch_size=16, epochs=20; total time=   4.0s\n",
            "[CV] END ...........................batch_size=16, epochs=20; total time=   7.2s\n",
            "[CV] END ...........................batch_size=16, epochs=20; total time=   3.5s\n",
            "[CV] END ...........................batch_size=32, epochs=15; total time=   3.2s\n",
            "[CV] END ...........................batch_size=32, epochs=15; total time=   2.2s\n",
            "[CV] END ...........................batch_size=32, epochs=15; total time=   2.4s\n",
            "[CV] END ...........................batch_size=32, epochs=15; total time=   2.3s\n",
            "[CV] END ...........................batch_size=32, epochs=15; total time=   2.3s\n",
            "[CV] END ............................batch_size=32, epochs=5; total time=   2.7s\n",
            "[CV] END ............................batch_size=32, epochs=5; total time=   2.5s\n",
            "[CV] END ............................batch_size=32, epochs=5; total time=   2.6s\n",
            "[CV] END ............................batch_size=32, epochs=5; total time=   1.8s\n",
            "[CV] END ............................batch_size=32, epochs=5; total time=   1.7s\n",
            "[CV] END ............................batch_size=64, epochs=5; total time=   1.8s\n",
            "[CV] END ............................batch_size=64, epochs=5; total time=   1.9s\n",
            "[CV] END ............................batch_size=64, epochs=5; total time=   2.5s\n",
            "[CV] END ............................batch_size=64, epochs=5; total time=   2.1s\n",
            "[CV] END ............................batch_size=64, epochs=5; total time=   1.6s\n",
            "[CV] END ...........................batch_size=64, epochs=20; total time=   2.4s\n",
            "[CV] END ...........................batch_size=64, epochs=20; total time=   2.4s\n",
            "[CV] END ...........................batch_size=64, epochs=20; total time=   2.5s\n",
            "[CV] END ...........................batch_size=64, epochs=20; total time=   3.3s\n",
            "[CV] END ...........................batch_size=64, epochs=20; total time=   2.7s\n",
            "Best Score: 0.8807017543859649\n",
            "Best Parameters: {'epochs': 25, 'batch_size': 32}\n"
          ]
        }
      ]
    },
    {
      "cell_type": "markdown",
      "source": [
        "Training Model"
      ],
      "metadata": {
        "id": "ielYj_B9XlyO"
      }
    },
    {
      "cell_type": "code",
      "source": [
        "opt = tf.keras.optimizers.Adam(learning_rate=1e-3, weight_decay=1e-5)\n",
        "cce = tf.keras.losses.CategoricalCrossentropy()\n",
        "model = create_model()\n",
        "model.compile(optimizer=opt, loss=cce, metrics=['accuracy'])\n",
        "history = model.fit(X_train, y_train, epochs=25, batch_size = 32, validation_data=(X_val, y_val))"
      ],
      "metadata": {
        "id": "58dMGCP2v0XJ",
        "colab": {
          "base_uri": "https://localhost:8080/"
        },
        "outputId": "f6f86802-1258-4af3-e848-31b3ec148129"
      },
      "execution_count": 13,
      "outputs": [
        {
          "output_type": "stream",
          "name": "stdout",
          "text": [
            "Epoch 1/25\n",
            "\u001b[1m58/58\u001b[0m \u001b[32m━━━━━━━━━━━━━━━━━━━━\u001b[0m\u001b[37m\u001b[0m \u001b[1m2s\u001b[0m 13ms/step - accuracy: 0.6311 - loss: 0.8272 - val_accuracy: 0.9570 - val_loss: 0.1931\n",
            "Epoch 2/25\n",
            "\u001b[1m58/58\u001b[0m \u001b[32m━━━━━━━━━━━━━━━━━━━━\u001b[0m\u001b[37m\u001b[0m \u001b[1m1s\u001b[0m 9ms/step - accuracy: 0.9351 - loss: 0.2272 - val_accuracy: 0.9570 - val_loss: 0.1490\n",
            "Epoch 3/25\n",
            "\u001b[1m58/58\u001b[0m \u001b[32m━━━━━━━━━━━━━━━━━━━━\u001b[0m\u001b[37m\u001b[0m \u001b[1m1s\u001b[0m 13ms/step - accuracy: 0.9677 - loss: 0.1202 - val_accuracy: 0.9570 - val_loss: 0.1143\n",
            "Epoch 4/25\n",
            "\u001b[1m58/58\u001b[0m \u001b[32m━━━━━━━━━━━━━━━━━━━━\u001b[0m\u001b[37m\u001b[0m \u001b[1m1s\u001b[0m 15ms/step - accuracy: 0.9694 - loss: 0.0862 - val_accuracy: 0.9355 - val_loss: 0.1394\n",
            "Epoch 5/25\n",
            "\u001b[1m58/58\u001b[0m \u001b[32m━━━━━━━━━━━━━━━━━━━━\u001b[0m\u001b[37m\u001b[0m \u001b[1m1s\u001b[0m 14ms/step - accuracy: 0.9819 - loss: 0.0690 - val_accuracy: 0.9462 - val_loss: 0.1230\n",
            "Epoch 6/25\n",
            "\u001b[1m58/58\u001b[0m \u001b[32m━━━━━━━━━━━━━━━━━━━━\u001b[0m\u001b[37m\u001b[0m \u001b[1m1s\u001b[0m 14ms/step - accuracy: 0.9814 - loss: 0.0576 - val_accuracy: 0.9355 - val_loss: 0.1297\n",
            "Epoch 7/25\n",
            "\u001b[1m58/58\u001b[0m \u001b[32m━━━━━━━━━━━━━━━━━━━━\u001b[0m\u001b[37m\u001b[0m \u001b[1m1s\u001b[0m 12ms/step - accuracy: 0.9838 - loss: 0.0446 - val_accuracy: 0.9462 - val_loss: 0.1574\n",
            "Epoch 8/25\n",
            "\u001b[1m58/58\u001b[0m \u001b[32m━━━━━━━━━━━━━━━━━━━━\u001b[0m\u001b[37m\u001b[0m \u001b[1m1s\u001b[0m 12ms/step - accuracy: 0.9876 - loss: 0.0466 - val_accuracy: 0.9355 - val_loss: 0.1619\n",
            "Epoch 9/25\n",
            "\u001b[1m58/58\u001b[0m \u001b[32m━━━━━━━━━━━━━━━━━━━━\u001b[0m\u001b[37m\u001b[0m \u001b[1m1s\u001b[0m 13ms/step - accuracy: 0.9905 - loss: 0.0347 - val_accuracy: 0.9462 - val_loss: 0.2507\n",
            "Epoch 10/25\n",
            "\u001b[1m58/58\u001b[0m \u001b[32m━━━━━━━━━━━━━━━━━━━━\u001b[0m\u001b[37m\u001b[0m \u001b[1m1s\u001b[0m 12ms/step - accuracy: 0.9866 - loss: 0.0433 - val_accuracy: 0.9355 - val_loss: 0.1532\n",
            "Epoch 11/25\n",
            "\u001b[1m58/58\u001b[0m \u001b[32m━━━━━━━━━━━━━━━━━━━━\u001b[0m\u001b[37m\u001b[0m \u001b[1m1s\u001b[0m 8ms/step - accuracy: 0.9943 - loss: 0.0248 - val_accuracy: 0.9462 - val_loss: 0.2240\n",
            "Epoch 12/25\n",
            "\u001b[1m58/58\u001b[0m \u001b[32m━━━━━━━━━━━━━━━━━━━━\u001b[0m\u001b[37m\u001b[0m \u001b[1m1s\u001b[0m 9ms/step - accuracy: 0.9960 - loss: 0.0210 - val_accuracy: 0.9355 - val_loss: 0.2455\n",
            "Epoch 13/25\n",
            "\u001b[1m58/58\u001b[0m \u001b[32m━━━━━━━━━━━━━━━━━━━━\u001b[0m\u001b[37m\u001b[0m \u001b[1m1s\u001b[0m 9ms/step - accuracy: 0.9971 - loss: 0.0159 - val_accuracy: 0.9570 - val_loss: 0.1785\n",
            "Epoch 14/25\n",
            "\u001b[1m58/58\u001b[0m \u001b[32m━━━━━━━━━━━━━━━━━━━━\u001b[0m\u001b[37m\u001b[0m \u001b[1m2s\u001b[0m 29ms/step - accuracy: 0.9956 - loss: 0.0118 - val_accuracy: 0.9462 - val_loss: 0.1948\n",
            "Epoch 15/25\n",
            "\u001b[1m58/58\u001b[0m \u001b[32m━━━━━━━━━━━━━━━━━━━━\u001b[0m\u001b[37m\u001b[0m \u001b[1m1s\u001b[0m 9ms/step - accuracy: 0.9994 - loss: 0.0071 - val_accuracy: 0.9462 - val_loss: 0.1912\n",
            "Epoch 16/25\n",
            "\u001b[1m58/58\u001b[0m \u001b[32m━━━━━━━━━━━━━━━━━━━━\u001b[0m\u001b[37m\u001b[0m \u001b[1m1s\u001b[0m 9ms/step - accuracy: 1.0000 - loss: 0.0086 - val_accuracy: 0.9355 - val_loss: 0.2301\n",
            "Epoch 17/25\n",
            "\u001b[1m58/58\u001b[0m \u001b[32m━━━━━━━━━━━━━━━━━━━━\u001b[0m\u001b[37m\u001b[0m \u001b[1m1s\u001b[0m 9ms/step - accuracy: 0.9987 - loss: 0.0076 - val_accuracy: 0.9570 - val_loss: 0.2170\n",
            "Epoch 18/25\n",
            "\u001b[1m58/58\u001b[0m \u001b[32m━━━━━━━━━━━━━━━━━━━━\u001b[0m\u001b[37m\u001b[0m \u001b[1m1s\u001b[0m 12ms/step - accuracy: 0.9966 - loss: 0.0112 - val_accuracy: 0.9355 - val_loss: 0.2010\n",
            "Epoch 19/25\n",
            "\u001b[1m58/58\u001b[0m \u001b[32m━━━━━━━━━━━━━━━━━━━━\u001b[0m\u001b[37m\u001b[0m \u001b[1m1s\u001b[0m 14ms/step - accuracy: 0.9991 - loss: 0.0094 - val_accuracy: 0.9570 - val_loss: 0.2017\n",
            "Epoch 20/25\n",
            "\u001b[1m58/58\u001b[0m \u001b[32m━━━━━━━━━━━━━━━━━━━━\u001b[0m\u001b[37m\u001b[0m \u001b[1m1s\u001b[0m 14ms/step - accuracy: 0.9998 - loss: 0.0047 - val_accuracy: 0.9570 - val_loss: 0.1998\n",
            "Epoch 21/25\n",
            "\u001b[1m58/58\u001b[0m \u001b[32m━━━━━━━━━━━━━━━━━━━━\u001b[0m\u001b[37m\u001b[0m \u001b[1m1s\u001b[0m 14ms/step - accuracy: 1.0000 - loss: 0.0048 - val_accuracy: 0.9462 - val_loss: 0.2239\n",
            "Epoch 22/25\n",
            "\u001b[1m58/58\u001b[0m \u001b[32m━━━━━━━━━━━━━━━━━━━━\u001b[0m\u001b[37m\u001b[0m \u001b[1m1s\u001b[0m 14ms/step - accuracy: 0.9990 - loss: 0.0049 - val_accuracy: 0.9570 - val_loss: 0.2247\n",
            "Epoch 23/25\n",
            "\u001b[1m58/58\u001b[0m \u001b[32m━━━━━━━━━━━━━━━━━━━━\u001b[0m\u001b[37m\u001b[0m \u001b[1m1s\u001b[0m 9ms/step - accuracy: 0.9999 - loss: 0.0036 - val_accuracy: 0.9570 - val_loss: 0.2232\n",
            "Epoch 24/25\n",
            "\u001b[1m58/58\u001b[0m \u001b[32m━━━━━━━━━━━━━━━━━━━━\u001b[0m\u001b[37m\u001b[0m \u001b[1m1s\u001b[0m 9ms/step - accuracy: 0.9996 - loss: 0.0034 - val_accuracy: 0.9355 - val_loss: 0.2551\n",
            "Epoch 25/25\n",
            "\u001b[1m58/58\u001b[0m \u001b[32m━━━━━━━━━━━━━━━━━━━━\u001b[0m\u001b[37m\u001b[0m \u001b[1m1s\u001b[0m 9ms/step - accuracy: 0.9997 - loss: 0.0032 - val_accuracy: 0.9355 - val_loss: 0.2442\n"
          ]
        }
      ]
    },
    {
      "cell_type": "markdown",
      "source": [
        "Model Evaluation"
      ],
      "metadata": {
        "id": "g-WbkX8JXwxl"
      }
    },
    {
      "cell_type": "code",
      "source": [
        "# 2. Evaluate the Model\n",
        "evaluation_metrics = model.evaluate(X_test, y_test)\n",
        "print(\"Evaluation Metrics:\")\n",
        "print(\"Loss:\", evaluation_metrics[0])\n",
        "print(\"Accuracy:\", evaluation_metrics[1])"
      ],
      "metadata": {
        "colab": {
          "base_uri": "https://localhost:8080/"
        },
        "id": "OmffaQftOVLs",
        "outputId": "46fdafb0-1e6c-484f-9ff3-c4303c41ab16"
      },
      "execution_count": 14,
      "outputs": [
        {
          "output_type": "stream",
          "name": "stdout",
          "text": [
            "\u001b[1m12/12\u001b[0m \u001b[32m━━━━━━━━━━━━━━━━━━━━\u001b[0m\u001b[37m\u001b[0m \u001b[1m0s\u001b[0m 4ms/step - accuracy: 0.9383 - loss: 0.4513 \n",
            "Evaluation Metrics:\n",
            "Loss: 0.2958611249923706\n",
            "Accuracy: 0.9402173757553101\n"
          ]
        }
      ]
    },
    {
      "cell_type": "code",
      "source": [
        "# Predict probabilities for each class\n",
        "y_pred_prob = model.predict(X_test)\n",
        "\n",
        "# Convert probabilities to class labels\n",
        "y_pred = np.argmax(y_pred_prob, axis=1)\n",
        "y_true = np.argmax(y_test, axis=1)\n",
        "\n",
        "# Get confusion matrix\n",
        "conf_matrix = confusion_matrix(y_true, y_pred)\n",
        "\n",
        "# Plot confusion matrix\n",
        "plt.figure(figsize=(8, 6))\n",
        "plt.matshow(conf_matrix, cmap='Purples')\n",
        "plt.colorbar()\n",
        "plt.xlabel('Predicted labels')\n",
        "plt.ylabel('True labels')\n",
        "plt.title('Confusion Matrix')\n",
        "plt.show()"
      ],
      "metadata": {
        "colab": {
          "base_uri": "https://localhost:8080/",
          "height": 452
        },
        "id": "W2LMKCEKTC-q",
        "outputId": "99f32e38-c529-4508-a806-788d8292f073"
      },
      "execution_count": 15,
      "outputs": [
        {
          "output_type": "stream",
          "name": "stdout",
          "text": [
            "\u001b[1m12/12\u001b[0m \u001b[32m━━━━━━━━━━━━━━━━━━━━\u001b[0m\u001b[37m\u001b[0m \u001b[1m0s\u001b[0m 8ms/step\n"
          ]
        },
        {
          "output_type": "display_data",
          "data": {
            "text/plain": [
              "<Figure size 800x600 with 0 Axes>"
            ]
          },
          "metadata": {}
        },
        {
          "output_type": "display_data",
          "data": {
            "text/plain": [
              "<Figure size 480x480 with 2 Axes>"
            ],
            "image/png": "[encoded data removed]"
          },
          "metadata": {}
        }
      ]
    }
  ]
}
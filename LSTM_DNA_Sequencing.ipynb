{
  "cells": [
    {
      "cell_type": "code",
      "source": [
        "!pip install scikit-learn==1.2.2\n"
      ],
      "metadata": {
        "colab": {
          "base_uri": "https://localhost:8080/",
          "height": 394
        },
        "id": "lNU2VI81d_9u",
        "outputId": "3d22f2ea-803d-4e47-cdae-579fd6f136a9"
      },
      "execution_count": 2,
      "outputs": [
        {
          "output_type": "stream",
          "name": "stdout",
          "text": [
            "Collecting scikit-learn==1.2.2\n",
            "  Downloading scikit_learn-1.2.2-cp310-cp310-manylinux_2_17_x86_64.manylinux2014_x86_64.whl (9.6 MB)\n",
            "\u001b[2K     \u001b[90m━━━━━━━━━━━━━━━━━━━━━━━━━━━━━━━━━━━━━━━━\u001b[0m \u001b[32m9.6/9.6 MB\u001b[0m \u001b[31m16.6 MB/s\u001b[0m eta \u001b[36m0:00:00\u001b[0m\n",
            "\u001b[?25hRequirement already satisfied: numpy>=1.17.3 in /usr/local/lib/python3.10/dist-packages (from scikit-learn==1.2.2) (1.25.2)\n",
            "Requirement already satisfied: scipy>=1.3.2 in /usr/local/lib/python3.10/dist-packages (from scikit-learn==1.2.2) (1.11.4)\n",
            "Requirement already satisfied: joblib>=1.1.1 in /usr/local/lib/python3.10/dist-packages (from scikit-learn==1.2.2) (1.4.2)\n",
            "Requirement already satisfied: threadpoolctl>=2.0.0 in /usr/local/lib/python3.10/dist-packages (from scikit-learn==1.2.2) (3.5.0)\n",
            "Installing collected packages: scikit-learn\n",
            "  Attempting uninstall: scikit-learn\n",
            "    Found existing installation: scikit-learn 1.5.0\n",
            "    Uninstalling scikit-learn-1.5.0:\n",
            "      Successfully uninstalled scikit-learn-1.5.0\n",
            "\u001b[31mERROR: pip's dependency resolver does not currently take into account all the packages that are installed. This behaviour is the source of the following dependency conflicts.\n",
            "scikeras 0.13.0 requires scikit-learn>=1.4.2, but you have scikit-learn 1.2.2 which is incompatible.\u001b[0m\u001b[31m\n",
            "\u001b[0mSuccessfully installed scikit-learn-1.2.2\n"
          ]
        },
        {
          "output_type": "display_data",
          "data": {
            "application/vnd.colab-display-data+json": {
              "pip_warning": {
                "packages": [
                  "sklearn"
                ]
              },
              "id": "a637eedaeec94586b2658b864aa113cd"
            }
          },
          "metadata": {}
        }
      ]
    },
    {
      "cell_type": "code",
      "source": [
        "!pip install scikeras\n"
      ],
      "metadata": {
        "colab": {
          "base_uri": "https://localhost:8080/",
          "height": 776
        },
        "id": "YiEJeXCMxjoW",
        "outputId": "a145f63a-09d5-4aab-8685-6d28ff0c2514"
      },
      "execution_count": 2,
      "outputs": [
        {
          "output_type": "stream",
          "name": "stdout",
          "text": [
            "Collecting scikeras\n",
            "  Downloading scikeras-0.13.0-py3-none-any.whl (26 kB)\n",
            "Collecting keras>=3.2.0 (from scikeras)\n",
            "  Downloading keras-3.3.3-py3-none-any.whl (1.1 MB)\n",
            "\u001b[2K     \u001b[90m━━━━━━━━━━━━━━━━━━━━━━━━━━━━━━━━━━━━━━━━\u001b[0m \u001b[32m1.1/1.1 MB\u001b[0m \u001b[31m8.2 MB/s\u001b[0m eta \u001b[36m0:00:00\u001b[0m\n",
            "\u001b[?25hCollecting scikit-learn>=1.4.2 (from scikeras)\n",
            "  Downloading scikit_learn-1.5.0-cp310-cp310-manylinux_2_17_x86_64.manylinux2014_x86_64.whl (13.3 MB)\n",
            "\u001b[2K     \u001b[90m━━━━━━━━━━━━━━━━━━━━━━━━━━━━━━━━━━━━━━━━\u001b[0m \u001b[32m13.3/13.3 MB\u001b[0m \u001b[31m31.4 MB/s\u001b[0m eta \u001b[36m0:00:00\u001b[0m\n",
            "\u001b[?25hRequirement already satisfied: absl-py in /usr/local/lib/python3.10/dist-packages (from keras>=3.2.0->scikeras) (1.4.0)\n",
            "Requirement already satisfied: numpy in /usr/local/lib/python3.10/dist-packages (from keras>=3.2.0->scikeras) (1.25.2)\n",
            "Requirement already satisfied: rich in /usr/local/lib/python3.10/dist-packages (from keras>=3.2.0->scikeras) (13.7.1)\n",
            "Collecting namex (from keras>=3.2.0->scikeras)\n",
            "  Downloading namex-0.0.8-py3-none-any.whl (5.8 kB)\n",
            "Requirement already satisfied: h5py in /usr/local/lib/python3.10/dist-packages (from keras>=3.2.0->scikeras) (3.9.0)\n",
            "Collecting optree (from keras>=3.2.0->scikeras)\n",
            "  Downloading optree-0.11.0-cp310-cp310-manylinux_2_17_x86_64.manylinux2014_x86_64.whl (311 kB)\n",
            "\u001b[2K     \u001b[90m━━━━━━━━━━━━━━━━━━━━━━━━━━━━━━━━━━━━━━━━\u001b[0m \u001b[32m311.2/311.2 kB\u001b[0m \u001b[31m26.1 MB/s\u001b[0m eta \u001b[36m0:00:00\u001b[0m\n",
            "\u001b[?25hRequirement already satisfied: ml-dtypes in /usr/local/lib/python3.10/dist-packages (from keras>=3.2.0->scikeras) (0.2.0)\n",
            "Requirement already satisfied: scipy>=1.6.0 in /usr/local/lib/python3.10/dist-packages (from scikit-learn>=1.4.2->scikeras) (1.11.4)\n",
            "Requirement already satisfied: joblib>=1.2.0 in /usr/local/lib/python3.10/dist-packages (from scikit-learn>=1.4.2->scikeras) (1.4.2)\n",
            "Requirement already satisfied: threadpoolctl>=3.1.0 in /usr/local/lib/python3.10/dist-packages (from scikit-learn>=1.4.2->scikeras) (3.5.0)\n",
            "Requirement already satisfied: typing-extensions>=4.0.0 in /usr/local/lib/python3.10/dist-packages (from optree->keras>=3.2.0->scikeras) (4.12.0)\n",
            "Requirement already satisfied: markdown-it-py>=2.2.0 in /usr/local/lib/python3.10/dist-packages (from rich->keras>=3.2.0->scikeras) (3.0.0)\n",
            "Requirement already satisfied: pygments<3.0.0,>=2.13.0 in /usr/local/lib/python3.10/dist-packages (from rich->keras>=3.2.0->scikeras) (2.16.1)\n",
            "Requirement already satisfied: mdurl~=0.1 in /usr/local/lib/python3.10/dist-packages (from markdown-it-py>=2.2.0->rich->keras>=3.2.0->scikeras) (0.1.2)\n",
            "Installing collected packages: namex, optree, scikit-learn, keras, scikeras\n",
            "  Attempting uninstall: scikit-learn\n",
            "    Found existing installation: scikit-learn 1.2.2\n",
            "    Uninstalling scikit-learn-1.2.2:\n",
            "      Successfully uninstalled scikit-learn-1.2.2\n",
            "  Attempting uninstall: keras\n",
            "    Found existing installation: keras 2.15.0\n",
            "    Uninstalling keras-2.15.0:\n",
            "      Successfully uninstalled keras-2.15.0\n",
            "\u001b[31mERROR: pip's dependency resolver does not currently take into account all the packages that are installed. This behaviour is the source of the following dependency conflicts.\n",
            "tensorflow 2.15.0 requires keras<2.16,>=2.15.0, but you have keras 3.3.3 which is incompatible.\u001b[0m\u001b[31m\n",
            "\u001b[0mSuccessfully installed keras-3.3.3 namex-0.0.8 optree-0.11.0 scikeras-0.13.0 scikit-learn-1.5.0\n"
          ]
        },
        {
          "output_type": "display_data",
          "data": {
            "application/vnd.colab-display-data+json": {
              "pip_warning": {
                "packages": [
                  "keras"
                ]
              },
              "id": "5bb54e8640e34f0eb07b9a3c842db914"
            }
          },
          "metadata": {}
        }
      ]
    },
    {
      "cell_type": "code",
      "execution_count": 1,
      "metadata": {
        "id": "axyDnv8TXqfQ"
      },
      "outputs": [],
      "source": [
        "import pandas as pd\n",
        "import matplotlib.pyplot as plt\n",
        "from imblearn.under_sampling import RandomUnderSampler\n",
        "from sklearn.preprocessing import OneHotEncoder\n",
        "from keras.layers import Input\n",
        "from tensorflow.keras.models import Sequential\n",
        "from tensorflow.keras.layers import LSTM, Dropout, Dense\n",
        "import numpy as np\n",
        "import tensorflow as tf\n",
        "from sklearn.model_selection import train_test_split\n",
        "from sklearn.model_selection import RandomizedSearchCV\n",
        "from scikeras.wrappers import KerasClassifier"
      ]
    },
    {
      "cell_type": "markdown",
      "source": [
        "Reading in Dataset"
      ],
      "metadata": {
        "id": "yUnF0VRZ3XQD"
      }
    },
    {
      "cell_type": "code",
      "execution_count": 2,
      "metadata": {
        "colab": {
          "base_uri": "https://localhost:8080/",
          "height": 206
        },
        "id": "Y0Ml3nbxX1x6",
        "outputId": "bf6ffbf3-e43e-4e5d-8eee-3f1a37ffd307"
      },
      "outputs": [
        {
          "output_type": "execute_result",
          "data": {
            "text/plain": [
              "  class                                       DNA sequence\n",
              "0    EI                 CCAGCTGCATCACAGGAGGCCAGCGAGCAGG...\n",
              "1    EI                 AGACCCGCCGGGAGGCGGAGGACCTGCAGGG...\n",
              "2    EI                 GAGGTGAAGGACGTCCTTCCCCAGGAGCCGG...\n",
              "3    EI                GGGCTGCGTTGCTGGTCACATTCCTGGCAGGT...\n",
              "4    EI               GCTCAGCCCCCAGGTCACCCAGGAACTGACGTG..."
            ],
            "text/html": [
              "\n",
              "  <div id=\"df-3b716920-9d97-4909-a7d4-cbcdd0c95c7b\" class=\"colab-df-container\">\n",
              "    <div>\n",
              "<style scoped>\n",
              "    .dataframe tbody tr th:only-of-type {\n",
              "        vertical-align: middle;\n",
              "    }\n",
              "\n",
              "    .dataframe tbody tr th {\n",
              "        vertical-align: top;\n",
              "    }\n",
              "\n",
              "    .dataframe thead th {\n",
              "        text-align: right;\n",
              "    }\n",
              "</style>\n",
              "<table border=\"1\" class=\"dataframe\">\n",
              "  <thead>\n",
              "    <tr style=\"text-align: right;\">\n",
              "      <th></th>\n",
              "      <th>class</th>\n",
              "      <th>DNA sequence</th>\n",
              "    </tr>\n",
              "  </thead>\n",
              "  <tbody>\n",
              "    <tr>\n",
              "      <th>0</th>\n",
              "      <td>EI</td>\n",
              "      <td>CCAGCTGCATCACAGGAGGCCAGCGAGCAGG...</td>\n",
              "    </tr>\n",
              "    <tr>\n",
              "      <th>1</th>\n",
              "      <td>EI</td>\n",
              "      <td>AGACCCGCCGGGAGGCGGAGGACCTGCAGGG...</td>\n",
              "    </tr>\n",
              "    <tr>\n",
              "      <th>2</th>\n",
              "      <td>EI</td>\n",
              "      <td>GAGGTGAAGGACGTCCTTCCCCAGGAGCCGG...</td>\n",
              "    </tr>\n",
              "    <tr>\n",
              "      <th>3</th>\n",
              "      <td>EI</td>\n",
              "      <td>GGGCTGCGTTGCTGGTCACATTCCTGGCAGGT...</td>\n",
              "    </tr>\n",
              "    <tr>\n",
              "      <th>4</th>\n",
              "      <td>EI</td>\n",
              "      <td>GCTCAGCCCCCAGGTCACCCAGGAACTGACGTG...</td>\n",
              "    </tr>\n",
              "  </tbody>\n",
              "</table>\n",
              "</div>\n",
              "    <div class=\"colab-df-buttons\">\n",
              "\n",
              "  <div class=\"colab-df-container\">\n",
              "    <button class=\"colab-df-convert\" onclick=\"convertToInteractive('df-3b716920-9d97-4909-a7d4-cbcdd0c95c7b')\"\n",
              "            title=\"Convert this dataframe to an interactive table.\"\n",
              "            style=\"display:none;\">\n",
              "\n",
              "  <svg xmlns=\"http://www.w3.org/2000/svg\" height=\"24px\" viewBox=\"0 -960 960 960\">\n",
              "    <path d=\"M120-120v-720h720v720H120Zm60-500h600v-160H180v160Zm220 220h160v-160H400v160Zm0 220h160v-160H400v160ZM180-400h160v-160H180v160Zm440 0h160v-160H620v160ZM180-180h160v-160H180v160Zm440 0h160v-160H620v160Z\"/>\n",
              "  </svg>\n",
              "    </button>\n",
              "\n",
              "  <style>\n",
              "    .colab-df-container {\n",
              "      display:flex;\n",
              "      gap: 12px;\n",
              "    }\n",
              "\n",
              "    .colab-df-convert {\n",
              "      background-color: #E8F0FE;\n",
              "      border: none;\n",
              "      border-radius: 50%;\n",
              "      cursor: pointer;\n",
              "      display: none;\n",
              "      fill: #1967D2;\n",
              "      height: 32px;\n",
              "      padding: 0 0 0 0;\n",
              "      width: 32px;\n",
              "    }\n",
              "\n",
              "    .colab-df-convert:hover {\n",
              "      background-color: #E2EBFA;\n",
              "      box-shadow: 0px 1px 2px rgba(60, 64, 67, 0.3), 0px 1px 3px 1px rgba(60, 64, 67, 0.15);\n",
              "      fill: #174EA6;\n",
              "    }\n",
              "\n",
              "    .colab-df-buttons div {\n",
              "      margin-bottom: 4px;\n",
              "    }\n",
              "\n",
              "    [theme=dark] .colab-df-convert {\n",
              "      background-color: #3B4455;\n",
              "      fill: #D2E3FC;\n",
              "    }\n",
              "\n",
              "    [theme=dark] .colab-df-convert:hover {\n",
              "      background-color: #434B5C;\n",
              "      box-shadow: 0px 1px 3px 1px rgba(0, 0, 0, 0.15);\n",
              "      filter: drop-shadow(0px 1px 2px rgba(0, 0, 0, 0.3));\n",
              "      fill: #FFFFFF;\n",
              "    }\n",
              "  </style>\n",
              "\n",
              "    <script>\n",
              "      const buttonEl =\n",
              "        document.querySelector('#df-3b716920-9d97-4909-a7d4-cbcdd0c95c7b button.colab-df-convert');\n",
              "      buttonEl.style.display =\n",
              "        google.colab.kernel.accessAllowed ? 'block' : 'none';\n",
              "\n",
              "      async function convertToInteractive(key) {\n",
              "        const element = document.querySelector('#df-3b716920-9d97-4909-a7d4-cbcdd0c95c7b');\n",
              "        const dataTable =\n",
              "          await google.colab.kernel.invokeFunction('convertToInteractive',\n",
              "                                                    [key], {});\n",
              "        if (!dataTable) return;\n",
              "\n",
              "        const docLinkHtml = 'Like what you see? Visit the ' +\n",
              "          '<a target=\"_blank\" href=https://colab.research.google.com/notebooks/data_table.ipynb>data table notebook</a>'\n",
              "          + ' to learn more about interactive tables.';\n",
              "        element.innerHTML = '';\n",
              "        dataTable['output_type'] = 'display_data';\n",
              "        await google.colab.output.renderOutput(dataTable, element);\n",
              "        const docLink = document.createElement('div');\n",
              "        docLink.innerHTML = docLinkHtml;\n",
              "        element.appendChild(docLink);\n",
              "      }\n",
              "    </script>\n",
              "  </div>\n",
              "\n",
              "\n",
              "<div id=\"df-3696b8a4-bfab-4972-9ce0-aeb17b35df64\">\n",
              "  <button class=\"colab-df-quickchart\" onclick=\"quickchart('df-3696b8a4-bfab-4972-9ce0-aeb17b35df64')\"\n",
              "            title=\"Suggest charts\"\n",
              "            style=\"display:none;\">\n",
              "\n",
              "<svg xmlns=\"http://www.w3.org/2000/svg\" height=\"24px\"viewBox=\"0 0 24 24\"\n",
              "     width=\"24px\">\n",
              "    <g>\n",
              "        <path d=\"M19 3H5c-1.1 0-2 .9-2 2v14c0 1.1.9 2 2 2h14c1.1 0 2-.9 2-2V5c0-1.1-.9-2-2-2zM9 17H7v-7h2v7zm4 0h-2V7h2v10zm4 0h-2v-4h2v4z\"/>\n",
              "    </g>\n",
              "</svg>\n",
              "  </button>\n",
              "\n",
              "<style>\n",
              "  .colab-df-quickchart {\n",
              "      --bg-color: #E8F0FE;\n",
              "      --fill-color: #1967D2;\n",
              "      --hover-bg-color: #E2EBFA;\n",
              "      --hover-fill-color: #174EA6;\n",
              "      --disabled-fill-color: #AAA;\n",
              "      --disabled-bg-color: #DDD;\n",
              "  }\n",
              "\n",
              "  [theme=dark] .colab-df-quickchart {\n",
              "      --bg-color: #3B4455;\n",
              "      --fill-color: #D2E3FC;\n",
              "      --hover-bg-color: #434B5C;\n",
              "      --hover-fill-color: #FFFFFF;\n",
              "      --disabled-bg-color: #3B4455;\n",
              "      --disabled-fill-color: #666;\n",
              "  }\n",
              "\n",
              "  .colab-df-quickchart {\n",
              "    background-color: var(--bg-color);\n",
              "    border: none;\n",
              "    border-radius: 50%;\n",
              "    cursor: pointer;\n",
              "    display: none;\n",
              "    fill: var(--fill-color);\n",
              "    height: 32px;\n",
              "    padding: 0;\n",
              "    width: 32px;\n",
              "  }\n",
              "\n",
              "  .colab-df-quickchart:hover {\n",
              "    background-color: var(--hover-bg-color);\n",
              "    box-shadow: 0 1px 2px rgba(60, 64, 67, 0.3), 0 1px 3px 1px rgba(60, 64, 67, 0.15);\n",
              "    fill: var(--button-hover-fill-color);\n",
              "  }\n",
              "\n",
              "  .colab-df-quickchart-complete:disabled,\n",
              "  .colab-df-quickchart-complete:disabled:hover {\n",
              "    background-color: var(--disabled-bg-color);\n",
              "    fill: var(--disabled-fill-color);\n",
              "    box-shadow: none;\n",
              "  }\n",
              "\n",
              "  .colab-df-spinner {\n",
              "    border: 2px solid var(--fill-color);\n",
              "    border-color: transparent;\n",
              "    border-bottom-color: var(--fill-color);\n",
              "    animation:\n",
              "      spin 1s steps(1) infinite;\n",
              "  }\n",
              "\n",
              "  @keyframes spin {\n",
              "    0% {\n",
              "      border-color: transparent;\n",
              "      border-bottom-color: var(--fill-color);\n",
              "      border-left-color: var(--fill-color);\n",
              "    }\n",
              "    20% {\n",
              "      border-color: transparent;\n",
              "      border-left-color: var(--fill-color);\n",
              "      border-top-color: var(--fill-color);\n",
              "    }\n",
              "    30% {\n",
              "      border-color: transparent;\n",
              "      border-left-color: var(--fill-color);\n",
              "      border-top-color: var(--fill-color);\n",
              "      border-right-color: var(--fill-color);\n",
              "    }\n",
              "    40% {\n",
              "      border-color: transparent;\n",
              "      border-right-color: var(--fill-color);\n",
              "      border-top-color: var(--fill-color);\n",
              "    }\n",
              "    60% {\n",
              "      border-color: transparent;\n",
              "      border-right-color: var(--fill-color);\n",
              "    }\n",
              "    80% {\n",
              "      border-color: transparent;\n",
              "      border-right-color: var(--fill-color);\n",
              "      border-bottom-color: var(--fill-color);\n",
              "    }\n",
              "    90% {\n",
              "      border-color: transparent;\n",
              "      border-bottom-color: var(--fill-color);\n",
              "    }\n",
              "  }\n",
              "</style>\n",
              "\n",
              "  <script>\n",
              "    async function quickchart(key) {\n",
              "      const quickchartButtonEl =\n",
              "        document.querySelector('#' + key + ' button');\n",
              "      quickchartButtonEl.disabled = true;  // To prevent multiple clicks.\n",
              "      quickchartButtonEl.classList.add('colab-df-spinner');\n",
              "      try {\n",
              "        const charts = await google.colab.kernel.invokeFunction(\n",
              "            'suggestCharts', [key], {});\n",
              "      } catch (error) {\n",
              "        console.error('Error during call to suggestCharts:', error);\n",
              "      }\n",
              "      quickchartButtonEl.classList.remove('colab-df-spinner');\n",
              "      quickchartButtonEl.classList.add('colab-df-quickchart-complete');\n",
              "    }\n",
              "    (() => {\n",
              "      let quickchartButtonEl =\n",
              "        document.querySelector('#df-3696b8a4-bfab-4972-9ce0-aeb17b35df64 button');\n",
              "      quickchartButtonEl.style.display =\n",
              "        google.colab.kernel.accessAllowed ? 'block' : 'none';\n",
              "    })();\n",
              "  </script>\n",
              "</div>\n",
              "\n",
              "    </div>\n",
              "  </div>\n"
            ],
            "application/vnd.google.colaboratory.intrinsic+json": {
              "type": "dataframe",
              "variable_name": "df",
              "summary": "{\n  \"name\": \"df\",\n  \"rows\": 3190,\n  \"fields\": [\n    {\n      \"column\": \"class\",\n      \"properties\": {\n        \"dtype\": \"category\",\n        \"num_unique_values\": 3,\n        \"samples\": [\n          \"EI\",\n          \"IE\",\n          \"N\"\n        ],\n        \"semantic_type\": \"\",\n        \"description\": \"\"\n      }\n    },\n    {\n      \"column\": \"DNA sequence\",\n      \"properties\": {\n        \"dtype\": \"string\",\n        \"num_unique_values\": 3092,\n        \"samples\": [\n          \"              GCAATGGCATAGAAAGTGTGAACAAAGAAAATGATATTAAGGAGGGGGGCTGTAGAAGGG\",\n          \"         GTTAACCTTATTTCTTTTCCTTCCACTCAGAAATGGCACCTCGAAAGGGGAAGGAAAAGA\",\n          \"             GACCAACATATCCAGGTTTTAATGGATAAATTAGTAGAGTTGGCCCACCAATACAAGTTG\"\n        ],\n        \"semantic_type\": \"\",\n        \"description\": \"\"\n      }\n    }\n  ]\n}"
            }
          },
          "metadata": {},
          "execution_count": 2
        }
      ],
      "source": [
        "# Read the CSV file into a DataFrame\n",
        "df = pd.read_csv('/content/drive/MyDrive/splice.data', names = [\"class\", \"donor\", \"DNA sequence\"])\n",
        "df = df.drop(['donor'], axis = 1)\n",
        "\n",
        "# Display the first few rows of the DataFrame\n",
        "df.head(5)"
      ]
    },
    {
      "cell_type": "markdown",
      "source": [
        "Balance Dataset"
      ],
      "metadata": {
        "id": "6lQt8JKf3b9q"
      }
    },
    {
      "cell_type": "code",
      "source": [
        "# Count the occurrences of each genome type\n",
        "genome_counts = df['class'].value_counts()\n",
        "\n",
        "# Create a bar chart\n",
        "plt.figure(figsize=(10, 6))  # Optional: specify figure size\n",
        "plt.bar(genome_counts.index, genome_counts.values, color='skyblue')\n",
        "\n",
        "# Add labels and title\n",
        "plt.xlabel('Class')\n",
        "plt.ylabel('Count')\n",
        "# Show the plot\n",
        "plt.show()"
      ],
      "metadata": {
        "colab": {
          "base_uri": "https://localhost:8080/",
          "height": 417
        },
        "id": "m_RxEiwLgYUV",
        "outputId": "c3bbdb38-809f-4f3e-c672-820f34aa66d5"
      },
      "execution_count": 3,
      "outputs": [
        {
          "output_type": "display_data",
          "data": {
            "text/plain": [
              "<Figure size 1000x600 with 1 Axes>"
            ],
            "image/png": "[encoded data removed]"
          },
          "metadata": {}
        }
      ]
    },
    {
      "cell_type": "code",
      "execution_count": 5,
      "metadata": {
        "colab": {
          "base_uri": "https://localhost:8080/"
        },
        "id": "gVUbPg2GX_dA",
        "outputId": "6aa49d98-998c-4c45-fa81-3bcf66b8c871"
      },
      "outputs": [
        {
          "output_type": "stream",
          "name": "stdout",
          "text": [
            "Count of each undersampled class:\n",
            "class\n",
            "EI    767\n",
            "IE    767\n",
            "N     767\n",
            "Name: count, dtype: int64\n"
          ]
        }
      ],
      "source": [
        "# Separate features and target variable\n",
        "X = df.drop('class', axis=1)\n",
        "y = df['class']\n",
        "\n",
        "# Undersample the majority class\n",
        "undersampler = RandomUnderSampler(random_state=42)\n",
        "X_resampled, y_resampled = undersampler.fit_resample(X, y)\n",
        "y_resampled_series = pd.Series(y_resampled)\n",
        "\n",
        "# Convert the undersampled data back to a DataFrame if needed\n",
        "df = pd.DataFrame(X_resampled, columns=X.columns)\n",
        "df['class'] = y_resampled\n",
        "\n",
        "print(\"Count of each undersampled class:\")\n",
        "print(y_resampled_series.value_counts())"
      ]
    },
    {
      "cell_type": "markdown",
      "metadata": {
        "id": "hdSWwPdhYnk5"
      },
      "source": [
        "Data Preprocessing"
      ]
    },
    {
      "cell_type": "code",
      "execution_count": 6,
      "metadata": {
        "colab": {
          "base_uri": "https://localhost:8080/"
        },
        "id": "6IyjPbCDYchw",
        "outputId": "c61c5e5b-3fcd-41af-c5a5-94adc9b2d90d"
      },
      "outputs": [
        {
          "output_type": "stream",
          "name": "stdout",
          "text": [
            "X_train shape:  (1840, 78, 9)\n",
            "X_test shape:  (368, 78, 9)\n",
            "X_val shape:  (93, 78, 9)\n",
            "y_train shape:  (1840, 3)\n",
            "y_test shape:  (368, 3)\n",
            "X_val shape:  (93, 3)\n"
          ]
        }
      ],
      "source": [
        "def dna_to_one_hot(sequence, nucleotide_map):\n",
        "    sequence = sequence.upper()\n",
        "    valid_bases = {'A', 'T', 'C', 'G', 'D', 'N', 'R','S'}\n",
        "    sequence = ''.join([base for base in sequence if base in valid_bases])\n",
        "    sequence = sequence.replace(' ', '').replace('\\n', '').replace('\\r', '')\n",
        "    indices = [nucleotide_map[nuc] for nuc in sequence]\n",
        "    one_hot = tf.one_hot(indices, depth=len(nucleotide_map))\n",
        "    return one_hot\n",
        "\n",
        "def labels_to_one_hot(labels, label_map):\n",
        "    indices = [label_map[label] for label in labels]\n",
        "    one_hot = tf.one_hot(indices, depth=len(label_map))\n",
        "    return one_hot\n",
        "\n",
        "sequences = df['DNA sequence'].tolist()\n",
        "labels = df['class'].tolist()\n",
        "\n",
        "# Unique nucleotides and labels\n",
        "unique_nucleotides = sorted(set(''.join(sequences)))\n",
        "unique_labels = sorted(set(labels))\n",
        "\n",
        "# Mappings\n",
        "nucleotide_map = {nuc: i for i, nuc in enumerate(unique_nucleotides)}\n",
        "label_map = {label: i for i, label in enumerate(unique_labels)}\n",
        "\n",
        "# One-hot encode sequences and labels\n",
        "one_hot_sequences = [dna_to_one_hot(seq, nucleotide_map) for seq in sequences]\n",
        "one_hot_labels = labels_to_one_hot(labels, label_map)\n",
        "\n",
        "# Convert TensorFlow tensors to NumPy arrays and pad sequences to the same length\n",
        "max_length = max(len(seq) for seq in sequences)\n",
        "one_hot_sequences_padded = [tf.pad(seq, [[0, max_length - len(seq)], [0, 0]]) for seq in one_hot_sequences]\n",
        "\n",
        "one_hot_sequences_np = np.array([seq.numpy() for seq in one_hot_sequences_padded])\n",
        "one_hot_labels_np = one_hot_labels.numpy()\n",
        "\n",
        "# Train-test split\n",
        "X_train, X_test, y_train, y_test = train_test_split(one_hot_sequences_np, one_hot_labels_np, test_size=0.2, random_state=42)\n",
        "X_test, X_val, y_test, y_val = train_test_split(X_test, y_test, test_size=0.2, random_state=65)\n",
        "\n",
        "print(\"X_train shape: \", X_train.shape)\n",
        "print(\"X_test shape: \", X_test.shape)\n",
        "print(\"X_val shape: \", X_val.shape)\n",
        "print(\"y_train shape: \", y_train.shape)\n",
        "print(\"y_test shape: \", y_test.shape)\n",
        "print(\"X_val shape: \", y_val.shape)"
      ]
    },
    {
      "cell_type": "markdown",
      "source": [
        "Hyperparameter Tuning"
      ],
      "metadata": {
        "id": "vIm0_xPVkEhH"
      }
    },
    {
      "cell_type": "code",
      "source": [
        "# LSTM model architecture\n",
        "def create_model(units=16, activation='relu', dropout_rate = 0.2):\n",
        "    model = Sequential()\n",
        "    model.add(Input(shape=(X_train.shape[1:])))\n",
        "    model.add(LSTM(units, activation=activation, return_sequences=False))\n",
        "    model.add(Dropout(dropout_rate))\n",
        "    model.add(Dense(3, activation='softmax'))\n",
        "\n",
        "    model.compile(optimizer='adam', loss='categorical_crossentropy', metrics=['accuracy'])\n",
        "    return model"
      ],
      "metadata": {
        "id": "gsbTfymeh0RG"
      },
      "execution_count": 9,
      "outputs": []
    },
    {
      "cell_type": "code",
      "source": [
        "# define hyperparameters to tune\n",
        "batch_size = [8, 16, 32, 64]\n",
        "epochs = [5, 10, 15, 20, 25]\n",
        "\n",
        "param_grid = dict(batch_size=batch_size, epochs=epochs)"
      ],
      "metadata": {
        "id": "9LU4APUlza-7"
      },
      "execution_count": 19,
      "outputs": []
    },
    {
      "cell_type": "code",
      "source": [
        "# Create the KerasClassifier\n",
        "random_search_model = KerasClassifier(model=create_model, verbose=0)\n",
        "\n",
        "# Use RandomizedSearchCV\n",
        "random_search = RandomizedSearchCV(estimator=random_search_model, param_distributions=param_grid, n_iter=10, verbose=2, n_jobs=1, random_state = 43)\n",
        "\n",
        "# Fit the model\n",
        "random_search_result = random_search.fit(X_val, y_val)\n",
        "\n",
        "# Print the best score and best parameters\n",
        "print(f\"Best Score: {random_search_result.best_score_}\")\n",
        "print(f\"Best Parameters: {random_search_result.best_params_}\")\n"
      ],
      "metadata": {
        "colab": {
          "base_uri": "https://localhost:8080/"
        },
        "id": "KwgiFR0Z4BIv",
        "outputId": "e16eb718-d518-4298-f458-84607c385783"
      },
      "execution_count": 24,
      "outputs": [
        {
          "output_type": "stream",
          "name": "stdout",
          "text": [
            "Fitting 5 folds for each of 10 candidates, totalling 50 fits\n",
            "[CV] END ...........................batch_size=64, epochs=20; total time=   5.6s\n",
            "[CV] END ...........................batch_size=64, epochs=20; total time=   4.7s\n",
            "[CV] END ...........................batch_size=64, epochs=20; total time=   4.2s\n",
            "[CV] END ...........................batch_size=64, epochs=20; total time= 1.1min\n",
            "[CV] END ...........................batch_size=64, epochs=20; total time=   5.7s\n",
            "[CV] END ............................batch_size=32, epochs=5; total time=   2.9s\n",
            "[CV] END ............................batch_size=32, epochs=5; total time=   2.7s\n",
            "[CV] END ............................batch_size=32, epochs=5; total time=   3.2s\n",
            "[CV] END ............................batch_size=32, epochs=5; total time=   4.1s\n",
            "[CV] END ............................batch_size=32, epochs=5; total time=   2.9s\n",
            "[CV] END ............................batch_size=64, epochs=5; total time=   2.7s\n",
            "[CV] END ............................batch_size=64, epochs=5; total time=   2.6s\n",
            "[CV] END ............................batch_size=64, epochs=5; total time=   3.3s\n",
            "[CV] END ............................batch_size=64, epochs=5; total time=   3.5s\n",
            "[CV] END ............................batch_size=64, epochs=5; total time=   3.3s\n",
            "[CV] END ...........................batch_size=16, epochs=15; total time=   4.6s\n",
            "[CV] END ...........................batch_size=16, epochs=15; total time=   6.4s\n",
            "[CV] END ...........................batch_size=16, epochs=15; total time=   4.3s\n",
            "[CV] END ...........................batch_size=16, epochs=15; total time=   4.3s\n",
            "[CV] END ...........................batch_size=16, epochs=15; total time=   6.5s\n",
            "[CV] END ...........................batch_size=32, epochs=20; total time=   4.4s\n",
            "[CV] END ...........................batch_size=32, epochs=20; total time=   4.6s\n",
            "[CV] END ...........................batch_size=32, epochs=20; total time=   5.8s\n",
            "[CV] END ...........................batch_size=32, epochs=20; total time=   4.9s\n",
            "[CV] END ...........................batch_size=32, epochs=20; total time=   5.2s\n",
            "[CV] END ............................batch_size=8, epochs=15; total time=   7.4s\n",
            "[CV] END ............................batch_size=8, epochs=15; total time=   7.0s\n",
            "[CV] END ............................batch_size=8, epochs=15; total time=   7.5s\n",
            "[CV] END ............................batch_size=8, epochs=15; total time=   6.4s\n",
            "[CV] END ............................batch_size=8, epochs=15; total time=   7.5s\n",
            "[CV] END ...........................batch_size=16, epochs=20; total time=   5.0s\n",
            "[CV] END ...........................batch_size=16, epochs=20; total time=   7.2s\n",
            "[CV] END ...........................batch_size=16, epochs=20; total time=   4.8s\n",
            "[CV] END ...........................batch_size=16, epochs=20; total time=   7.1s\n",
            "[CV] END ...........................batch_size=16, epochs=20; total time=   5.3s\n",
            "[CV] END ...........................batch_size=32, epochs=10; total time=   9.9s\n",
            "[CV] END ...........................batch_size=32, epochs=10; total time=   3.7s\n",
            "[CV] END ...........................batch_size=32, epochs=10; total time=   3.4s\n",
            "[CV] END ...........................batch_size=32, epochs=10; total time=   3.5s\n",
            "[CV] END ...........................batch_size=32, epochs=10; total time=   4.6s\n",
            "[CV] END ...........................batch_size=64, epochs=10; total time=   3.1s\n",
            "[CV] END ...........................batch_size=64, epochs=10; total time=   3.1s\n",
            "[CV] END ...........................batch_size=64, epochs=10; total time=   3.2s\n",
            "[CV] END ...........................batch_size=64, epochs=10; total time=   4.3s\n",
            "[CV] END ...........................batch_size=64, epochs=10; total time=   3.7s\n",
            "[CV] END ............................batch_size=8, epochs=20; total time=   8.0s\n",
            "[CV] END ............................batch_size=8, epochs=20; total time=   9.3s\n",
            "[CV] END ............................batch_size=8, epochs=20; total time=   9.8s\n",
            "[CV] END ............................batch_size=8, epochs=20; total time=   7.5s\n",
            "[CV] END ............................batch_size=8, epochs=20; total time=  10.0s\n",
            "Best Score: 0.3871345029239766\n",
            "Best Parameters: {'epochs': 20, 'batch_size': 64}\n"
          ]
        }
      ]
    },
    {
      "cell_type": "code",
      "source": [
        "opt = tf.keras.optimizers.Adam(learning_rate=1e-3, weight_decay=1e-5)\n",
        "cce = tf.keras.losses.CategoricalCrossentropy()\n",
        "model = create_model(units=16, activation='relu', dropout_rate = 0.2)\n",
        "model.compile(optimizer=opt, loss=cce, metrics=['accuracy'])\n",
        "history = model.fit(X_train, y_train, epochs=20, batch_size = 64, validation_data=(X_val, y_val))"
      ],
      "metadata": {
        "colab": {
          "base_uri": "https://localhost:8080/"
        },
        "id": "O4pMJenLCd0X",
        "outputId": "ca7009fe-794a-4285-b8f5-8c87781b8eaf"
      },
      "execution_count": 26,
      "outputs": [
        {
          "output_type": "stream",
          "name": "stdout",
          "text": [
            "Epoch 1/20\n",
            "\u001b[1m29/29\u001b[0m \u001b[32m━━━━━━━━━━━━━━━━━━━━\u001b[0m\u001b[37m\u001b[0m \u001b[1m4s\u001b[0m 38ms/step - accuracy: 0.3325 - loss: 1.0987 - val_accuracy: 0.3333 - val_loss: 1.0986\n",
            "Epoch 2/20\n",
            "\u001b[1m29/29\u001b[0m \u001b[32m━━━━━━━━━━━━━━━━━━━━\u001b[0m\u001b[37m\u001b[0m \u001b[1m1s\u001b[0m 27ms/step - accuracy: 0.3491 - loss: 1.0985 - val_accuracy: 0.3333 - val_loss: 1.0987\n",
            "Epoch 3/20\n",
            "\u001b[1m29/29\u001b[0m \u001b[32m━━━━━━━━━━━━━━━━━━━━\u001b[0m\u001b[37m\u001b[0m \u001b[1m2s\u001b[0m 69ms/step - accuracy: 0.3235 - loss: 1.0987 - val_accuracy: 0.3333 - val_loss: 1.0990\n",
            "Epoch 4/20\n",
            "\u001b[1m29/29\u001b[0m \u001b[32m━━━━━━━━━━━━━━━━━━━━\u001b[0m\u001b[37m\u001b[0m \u001b[1m2s\u001b[0m 51ms/step - accuracy: 0.3343 - loss: 1.0984 - val_accuracy: 0.3118 - val_loss: 1.1010\n",
            "Epoch 5/20\n",
            "\u001b[1m29/29\u001b[0m \u001b[32m━━━━━━━━━━━━━━━━━━━━\u001b[0m\u001b[37m\u001b[0m \u001b[1m2s\u001b[0m 42ms/step - accuracy: 0.3861 - loss: 1.0908 - val_accuracy: 0.4086 - val_loss: 1.0687\n",
            "Epoch 6/20\n",
            "\u001b[1m29/29\u001b[0m \u001b[32m━━━━━━━━━━━━━━━━━━━━\u001b[0m\u001b[37m\u001b[0m \u001b[1m1s\u001b[0m 28ms/step - accuracy: 0.4067 - loss: 36.3209 - val_accuracy: 0.3226 - val_loss: 1.0999\n",
            "Epoch 7/20\n",
            "\u001b[1m29/29\u001b[0m \u001b[32m━━━━━━━━━━━━━━━━━━━━\u001b[0m\u001b[37m\u001b[0m \u001b[1m1s\u001b[0m 29ms/step - accuracy: 0.3594 - loss: 1.0928 - val_accuracy: 0.3118 - val_loss: 1.1001\n",
            "Epoch 8/20\n",
            "\u001b[1m29/29\u001b[0m \u001b[32m━━━━━━━━━━━━━━━━━━━━\u001b[0m\u001b[37m\u001b[0m \u001b[1m1s\u001b[0m 28ms/step - accuracy: 0.3717 - loss: 1.0930 - val_accuracy: 0.3226 - val_loss: 1.0997\n",
            "Epoch 9/20\n",
            "\u001b[1m29/29\u001b[0m \u001b[32m━━━━━━━━━━━━━━━━━━━━\u001b[0m\u001b[37m\u001b[0m \u001b[1m1s\u001b[0m 29ms/step - accuracy: 0.3841 - loss: 1.0907 - val_accuracy: 0.3118 - val_loss: 1.0992\n",
            "Epoch 10/20\n",
            "\u001b[1m29/29\u001b[0m \u001b[32m━━━━━━━━━━━━━━━━━━━━\u001b[0m\u001b[37m\u001b[0m \u001b[1m1s\u001b[0m 28ms/step - accuracy: 0.3747 - loss: 1.0932 - val_accuracy: 0.3226 - val_loss: 1.0983\n",
            "Epoch 11/20\n",
            "\u001b[1m29/29\u001b[0m \u001b[32m━━━━━━━━━━━━━━━━━━━━\u001b[0m\u001b[37m\u001b[0m \u001b[1m1s\u001b[0m 28ms/step - accuracy: 0.3713 - loss: 1.0919 - val_accuracy: 0.3226 - val_loss: 1.0979\n",
            "Epoch 12/20\n",
            "\u001b[1m29/29\u001b[0m \u001b[32m━━━━━━━━━━━━━━━━━━━━\u001b[0m\u001b[37m\u001b[0m \u001b[1m1s\u001b[0m 29ms/step - accuracy: 0.3773 - loss: 1.0891 - val_accuracy: 0.3333 - val_loss: 1.0982\n",
            "Epoch 13/20\n",
            "\u001b[1m29/29\u001b[0m \u001b[32m━━━━━━━━━━━━━━━━━━━━\u001b[0m\u001b[37m\u001b[0m \u001b[1m1s\u001b[0m 29ms/step - accuracy: 0.3940 - loss: 1.0846 - val_accuracy: 0.3226 - val_loss: 1.1008\n",
            "Epoch 14/20\n",
            "\u001b[1m29/29\u001b[0m \u001b[32m━━━━━━━━━━━━━━━━━━━━\u001b[0m\u001b[37m\u001b[0m \u001b[1m1s\u001b[0m 31ms/step - accuracy: 0.3629 - loss: 1.0868 - val_accuracy: 0.3333 - val_loss: 1.0986\n",
            "Epoch 15/20\n",
            "\u001b[1m29/29\u001b[0m \u001b[32m━━━━━━━━━━━━━━━━━━━━\u001b[0m\u001b[37m\u001b[0m \u001b[1m2s\u001b[0m 43ms/step - accuracy: 0.4104 - loss: 1.0975 - val_accuracy: 0.3656 - val_loss: 1.0924\n",
            "Epoch 16/20\n",
            "\u001b[1m29/29\u001b[0m \u001b[32m━━━━━━━━━━━━━━━━━━━━\u001b[0m\u001b[37m\u001b[0m \u001b[1m1s\u001b[0m 44ms/step - accuracy: 0.4088 - loss: 1.0891 - val_accuracy: 0.3333 - val_loss: 1.0925\n",
            "Epoch 17/20\n",
            "\u001b[1m29/29\u001b[0m \u001b[32m━━━━━━━━━━━━━━━━━━━━\u001b[0m\u001b[37m\u001b[0m \u001b[1m2s\u001b[0m 28ms/step - accuracy: 0.4187 - loss: 1.0876 - val_accuracy: 0.3333 - val_loss: 1.0925\n",
            "Epoch 18/20\n",
            "\u001b[1m29/29\u001b[0m \u001b[32m━━━━━━━━━━━━━━━━━━━━\u001b[0m\u001b[37m\u001b[0m \u001b[1m1s\u001b[0m 28ms/step - accuracy: 0.4203 - loss: 1.0899 - val_accuracy: 0.3441 - val_loss: 1.0922\n",
            "Epoch 19/20\n",
            "\u001b[1m29/29\u001b[0m \u001b[32m━━━━━━━━━━━━━━━━━━━━\u001b[0m\u001b[37m\u001b[0m \u001b[1m1s\u001b[0m 29ms/step - accuracy: 0.4098 - loss: 1.0861 - val_accuracy: 0.3118 - val_loss: 1.0926\n",
            "Epoch 20/20\n",
            "\u001b[1m29/29\u001b[0m \u001b[32m━━━━━━━━━━━━━━━━━━━━\u001b[0m\u001b[37m\u001b[0m \u001b[1m1s\u001b[0m 28ms/step - accuracy: 0.4206 - loss: 1.0833 - val_accuracy: 0.3441 - val_loss: 1.0931\n"
          ]
        }
      ]
    },
    {
      "cell_type": "code",
      "source": [
        "# 2. Evaluate the Model\n",
        "evaluation_metrics = model.evaluate(X_test, y_test)\n",
        "print(\"Evaluation Metrics:\")\n",
        "print(\"Loss:\", evaluation_metrics[0])\n",
        "print(\"Accuracy:\", evaluation_metrics[1])"
      ],
      "metadata": {
        "colab": {
          "base_uri": "https://localhost:8080/"
        },
        "id": "8rJ2Yg4EZ8_M",
        "outputId": "4de8aab8-7802-4410-9aca-8e725d6be10e"
      },
      "execution_count": 27,
      "outputs": [
        {
          "output_type": "stream",
          "name": "stdout",
          "text": [
            "\u001b[1m12/12\u001b[0m \u001b[32m━━━━━━━━━━━━━━━━━━━━\u001b[0m\u001b[37m\u001b[0m \u001b[1m0s\u001b[0m 8ms/step - accuracy: 0.3420 - loss: 1.0904\n",
            "Evaluation Metrics:\n",
            "Loss: 1.0856297016143799\n",
            "Accuracy: 0.37771740555763245\n"
          ]
        }
      ]
    },
    {
      "cell_type": "code",
      "source": [
        "import matplotlib.pyplot as plt\n",
        "import seaborn as sns\n",
        "from sklearn.metrics import confusion_matrix\n",
        "import numpy as np\n",
        "\n",
        "# Predict probabilities for each class\n",
        "y_pred_prob = model.predict(X_test)\n",
        "\n",
        "# Convert probabilities to class labels\n",
        "y_pred = np.argmax(y_pred_prob, axis=1)\n",
        "y_true = np.argmax(y_test, axis=1)\n",
        "\n",
        "# Get confusion matrix\n",
        "conf_matrix = confusion_matrix(y_true, y_pred)\n",
        "\n",
        "# Plot confusion matrix\n",
        "plt.figure(figsize=(8, 6))\n",
        "plt.matshow(conf_matrix, cmap='Greens')\n",
        "plt.colorbar()\n",
        "plt.xlabel('Predicted labels')\n",
        "plt.ylabel('True labels')\n",
        "plt.title('Confusion Matrix')\n",
        "plt.show()"
      ],
      "metadata": {
        "colab": {
          "base_uri": "https://localhost:8080/",
          "height": 452
        },
        "id": "GOXIWJyPae1U",
        "outputId": "53f08b44-51e0-4cb7-e0cc-4f6d133bc626"
      },
      "execution_count": 28,
      "outputs": [
        {
          "output_type": "stream",
          "name": "stdout",
          "text": [
            "\u001b[1m12/12\u001b[0m \u001b[32m━━━━━━━━━━━━━━━━━━━━\u001b[0m\u001b[37m\u001b[0m \u001b[1m1s\u001b[0m 33ms/step\n"
          ]
        },
        {
          "output_type": "display_data",
          "data": {
            "text/plain": [
              "<Figure size 800x600 with 0 Axes>"
            ]
          },
          "metadata": {}
        },
        {
          "output_type": "display_data",
          "data": {
            "text/plain": [
              "<Figure size 480x480 with 2 Axes>"
            ],
            "image/png": "[encoded data removed]"
          },
          "metadata": {}
        }
      ]
    }
  ],
  "metadata": {
    "colab": {
      "provenance": []
    },
    "kernelspec": {
      "display_name": "Python 3",
      "name": "python3"
    },
    "language_info": {
      "name": "python"
    }
  },
  "nbformat": 4,
  "nbformat_minor": 0
}